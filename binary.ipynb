{
  "cells": [
    {
      "cell_type": "code",
      "execution_count": null,
      "id": "253555a7-1d73-4950-b462-8d95237a7e05",
      "metadata": {
        "trusted": true
      },
      "outputs": [
        {
          "name": "stdout",
          "output_type": "stream",
          "text": [
            "8\n"
          ]
        }
      ],
      "source": [
        "def fn(list1, num):\n",
        "    ans=-1\n",
        "    if not list1:\n",
        "        return ans \n",
        "    l=0\n",
        "    r=len(list1)-1    \n",
        "    while r>=l:\n",
        "        m=(l+r)//2\n",
        "        if list1[m]>= num:\n",
        "            ans=m\n",
        "            r=m-1\n",
        "        else:\n",
        "            l=m+1\n",
        "    return ans\n",
        "\n",
        "print(fn([1, 3, 4, 5, 6, 7, 8, 11, 455], 5))\n"
      ]
    },
    {
      "cell_type": "code",
      "execution_count": 10,
      "id": "5063147e-8c5f-46ba-ae57-da1388e0a763",
      "metadata": {
        "trusted": true
      },
      "outputs": [
        {
          "name": "stdout",
          "output_type": "stream",
          "text": [
            "2\n"
          ]
        }
      ],
      "source": [
        "def fn(list1, num):\n",
        "    ans=-1\n",
        "    if not list1:\n",
        "        return ans \n",
        "    l=0\n",
        "    r=len(list1)-1    \n",
        "    while r>=l:\n",
        "        m=(l+r)//2\n",
        "        if list1[m]>= num:            \n",
        "            r=m-1\n",
        "        else:\n",
        "            l=m+1\n",
        "            ans=m\n",
        "    return ans\n",
        "\n",
        "print(fn([1, 3, 4, 5, 6, 7, 8, 11, 455], 5))"
      ]
    }
  ],
  "metadata": {
    "kernelspec": {
      "display_name": "myenv",
      "language": "python",
      "name": "python3"
    },
    "language_info": {
      "codemirror_mode": {
        "name": "ipython",
        "version": 3
      },
      "file_extension": ".py",
      "mimetype": "text/x-python",
      "name": "python",
      "nbconvert_exporter": "python",
      "pygments_lexer": "ipython3",
      "version": "3.10.16"
    }
  },
  "nbformat": 4,
  "nbformat_minor": 5
}
